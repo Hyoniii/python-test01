{
 "cells": [
  {
   "cell_type": "markdown",
   "metadata": {},
   "source": [
    "### 1. 유저한테 숫자 1개를 입력받아서,그 숫자가 10이면,정답입니다! 를 출력하는 프로그램"
   ]
  },
  {
   "cell_type": "code",
   "execution_count": 1,
   "metadata": {},
   "outputs": [
    {
     "name": "stdout",
     "output_type": "stream",
     "text": [
      "숫자를 입력하세요1\n",
      "오답입니다!\n"
     ]
    }
   ],
   "source": [
    "num = int(input(\"숫자를 입력하세요\"))\n",
    "\n",
    "if num == 10:\n",
    "    print(\"정답입니다!\")\n",
    "else:\n",
    "    print(\"오답입니다!\")"
   ]
  },
  {
   "cell_type": "markdown",
   "metadata": {},
   "source": [
    "### 2. 유저한테 숫자 1개를 입력받아서, 그 숫자가 짝수이면 \"짝수\"를 출력하고, 홀수이면 \"홀수\"를 출력하는 프로그램"
   ]
  },
  {
   "cell_type": "code",
   "execution_count": 2,
   "metadata": {},
   "outputs": [
    {
     "name": "stdout",
     "output_type": "stream",
     "text": [
      "숫자를 입력하세요1\n",
      "홀수\n"
     ]
    }
   ],
   "source": [
    "num_2 = int(input(\"숫자를 입력하세요\"))\n",
    "if num_2%2==0:\n",
    "    print(\"짝수\")\n",
    "elif num_2%2==1:\n",
    "    print(\"홀수\")"
   ]
  },
  {
   "cell_type": "markdown",
   "metadata": {},
   "source": [
    "### 3. 유저한테 점수를 입력받아서,점수가 0보다 작거나 100보다 크면, \"잘못 입력했습니다.\"를 출력.점수가 80 이상이면, \"입력하신 학점 ...은 A 학점입니다.\" 를 출력점수가 80 점 미만이면, \"입력하신 학점 ... 은 B 학점입니다.\"를 출력"
   ]
  },
  {
   "cell_type": "code",
   "execution_count": 3,
   "metadata": {},
   "outputs": [
    {
     "name": "stdout",
     "output_type": "stream",
     "text": [
      "점수를 입력하세요100\n",
      "입력하신 학점 100은 A 학점입니다\n"
     ]
    }
   ],
   "source": [
    "score = int(input(\"점수를 입력하세요\"))\n",
    "\n",
    "if score >100 or score < 0:\n",
    "    print(\"잘못 입력헸습니다\")\n",
    "elif score>=80:\n",
    "    print(\"입력하신 학점 {}은 A 학점입니다\".format(score))\n",
    "elif score <80:\n",
    "    print(\"입력하신 학점 {}은 B 학점입니다\".format(score))"
   ]
  },
  {
   "cell_type": "markdown",
   "metadata": {},
   "source": [
    "### 4. 회원가입을 하려 합니다. 유저한테 이메일과 비밀번호를 입력받습니다. 유저한테 이메일을 입력받습니다. 이때 이메일주소 형식(@)이 잘못 되었으면, 다시 입력하세요 를 출력합니다. 이메일 주소가 잘 입력되었으면, 이제 비밀번호를 두번 입력받습니다.만약 첫번째 입력한 비밀번호와, 두번째 입력한 비밀번호가 다르면, 비밀번호가 일치하지 않습니다 를 출력합니다. 비번 길이는 5글자 이상 9글자 이하로 입력받아야 합니다."
   ]
  },
  {
   "cell_type": "code",
   "execution_count": 7,
   "metadata": {},
   "outputs": [
    {
     "name": "stdout",
     "output_type": "stream",
     "text": [
      "이메일을 입력하세요d\n",
      "이메일 주소가 잘못되었습니다.\n"
     ]
    }
   ],
   "source": [
    "email = input(\"이메일을 입력하세요\")\n",
    "\n",
    "\n",
    "if \"@\" in email:\n",
    "    pw_1 = input(\"비밀번호를 입력하세요\")\n",
    "    if len(pw_1)>10 or len(pw_1)<5:\n",
    "        print(\"비번 길이는 5글자 이상 9글자 이하로 입력하세요.\")\n",
    "    pw_2 = input(\"비밀번호를 재입력하세요\")\n",
    "    \n",
    "    if pw_1 != pw_2:\n",
    "        print(\"비번이 일치하지 않습니다.\")\n",
    "else:\n",
    "    print(\"이메일 주소가 잘못되었습니다.\")"
   ]
  },
  {
   "cell_type": "code",
   "execution_count": 6,
   "metadata": {},
   "outputs": [
    {
     "name": "stdout",
     "output_type": "stream",
     "text": [
      "이메일 입력 : s\n",
      "비번 입력 : s\n",
      "비번 확인 : d\n",
      "이메일 주소가 잘못되었습니다.\n"
     ]
    }
   ],
   "source": [
    "email = input('이메일 입력 : ')\n",
    "passwd1 = input('비번 입력 : ')\n",
    "passwd2 = input('비번 확인 : ')\n",
    "\n",
    "if '@' not in email :\n",
    "    print('이메일 주소가 잘못되었습니다.')\n",
    "elif passwd1 != passwd2 :\n",
    "    print('비번이 일치하지 않습니다.')\n",
    "elif len(passwd1) < 5 or len(passwd1) > 9 : \n",
    "    print('비번 길이는 5글자 이상 9글자 이하로 입력하세요.')"
   ]
  },
  {
   "cell_type": "code",
   "execution_count": null,
   "metadata": {},
   "outputs": [],
   "source": []
  }
 ],
 "metadata": {
  "kernelspec": {
   "display_name": "Python 3",
   "language": "python",
   "name": "python3"
  },
  "language_info": {
   "codemirror_mode": {
    "name": "ipython",
    "version": 3
   },
   "file_extension": ".py",
   "mimetype": "text/x-python",
   "name": "python",
   "nbconvert_exporter": "python",
   "pygments_lexer": "ipython3",
   "version": "3.8.5"
  }
 },
 "nbformat": 4,
 "nbformat_minor": 4
}
