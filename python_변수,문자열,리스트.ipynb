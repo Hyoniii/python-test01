{
 "cells": [
  {
   "cell_type": "markdown",
   "metadata": {},
   "source": [
    "## 연산순서¶\n",
    "[링크](https://en.wikibooks.org/wiki/Python_Programming/Basic_Math)"
   ]
  },
  {
   "cell_type": "markdown",
   "metadata": {},
   "source": [
    "## 변수 할당\n",
    "- 변수할당은 ( = ) 기호를 사용한다.\n",
    "- 왼족이 변수의 이름이다.\n",
    "- 오른쪽이 변수의 값이다."
   ]
  },
  {
   "cell_type": "markdown",
   "metadata": {},
   "source": [
    "## 데이터타입을 확인하는 방법\n",
    "- type함수를 이용한다."
   ]
  },
  {
   "cell_type": "markdown",
   "metadata": {},
   "source": [
    "## Variable naming rules\n",
    "- 변수의 시작은 영문자나 언더스코어(_)로만 시작해야 한다.:\n",
    "   - _salary\n",
    "   - salary_\n",
    "- 변수의 시작 다음에는 숫자나 문자나 언더스코어등 아무거나 와도 상관없다. :\n",
    "   - salary1\n",
    "   - salary2018x\n",
    "   - speed_kph\n",
    "- 변수명은, 같은 문자라도 대문자와소문자를 구별하므로, 다른변수로 취급한다.\n",
    "\n",
    "   - salary, SALARY\n",
    "   - salary, Salary\n",
    "   - salary, salarY\n",
    "- 변수의 시작은 절대 숫자로 시작할수 없다.\n",
    "\n",
    "- 다음의 예약어는, 우리가 마음대로 변수로 사용할 수 없는 것들이다."
   ]
  },
  {
   "cell_type": "code",
   "execution_count": 1,
   "metadata": {},
   "outputs": [
    {
     "name": "stdout",
     "output_type": "stream",
     "text": [
      "20 25 10 12 13 15 30 30 20 33 36\n"
     ]
    }
   ],
   "source": [
    "salary = 20 # dollars per hour\n",
    "Salary = 25\n",
    "for1 = 10\n",
    "saLary = 12\n",
    "SALARY = 13\n",
    "s_a_l_a_r_y = 15\n",
    "SALARY2 = 30\n",
    "_salary = 30\n",
    "True_value = 20\n",
    "salary_ = 33\n",
    "_SALARY_ = 36\n",
    "\n",
    "print(salary, Salary, for1, saLary, SALARY, s_a_l_a_r_y, SALARY2, _salary, True_value, salary_, _SALARY_)"
   ]
  },
  {
   "cell_type": "code",
   "execution_count": null,
   "metadata": {},
   "outputs": [],
   "source": []
  },
  {
   "cell_type": "code",
   "execution_count": null,
   "metadata": {},
   "outputs": [],
   "source": []
  },
  {
   "cell_type": "markdown",
   "metadata": {},
   "source": [
    "## PRINT 함수\n",
    "- print() 함수는, 화면에 출력하는 함수다.\n",
    "\n",
    "[참고](https://vision-ai.tistory.com/entry/%ED%8C%8C%EC%9D%B4%EC%8D%AC-%ED%99%94%EB%A9%B4-%EC%B6%9C%EB%A0%A5-print-%ED%95%A8%EC%88%98)"
   ]
  },
  {
   "cell_type": "code",
   "execution_count": 2,
   "metadata": {},
   "outputs": [],
   "source": [
    "x = \"my name is hyunhee\""
   ]
  },
  {
   "cell_type": "code",
   "execution_count": 3,
   "metadata": {},
   "outputs": [
    {
     "name": "stdout",
     "output_type": "stream",
     "text": [
      "my name is hyunhee\n"
     ]
    }
   ],
   "source": [
    "print(x)"
   ]
  },
  {
   "cell_type": "code",
   "execution_count": 4,
   "metadata": {},
   "outputs": [
    {
     "name": "stdout",
     "output_type": "stream",
     "text": [
      "my name is hyunhee, I'm 27 years old\n"
     ]
    }
   ],
   "source": [
    "print(\"my name is {}, I'm {} years old\".format(\"hyunhee\",27))"
   ]
  },
  {
   "cell_type": "code",
   "execution_count": null,
   "metadata": {},
   "outputs": [],
   "source": []
  },
  {
   "cell_type": "markdown",
   "metadata": {},
   "source": [
    "## USER INPUT - 사용자에게서 직접 입력을 받는 경우\n",
    "- input 함수는, 유저한테서 직접 입력을 받는다.\n",
    "- 유저가 숫자를 입력하든, 문자를 입력하든, input() 함수는 전부 문자열로 처리\n",
    "\n",
    "\n",
    "[참고](https://vision-ai.tistory.com/entry/%ED%8C%8C%EC%9D%B4%EC%8D%AC-%EC%82%AC%EC%9A%A9%EC%9E%90%EC%97%90%EA%B2%8C-%EC%9E%85%EB%A0%A5%EB%B0%9B%EA%B8%B0-User-Input)"
   ]
  },
  {
   "cell_type": "code",
   "execution_count": 5,
   "metadata": {},
   "outputs": [
    {
     "name": "stdout",
     "output_type": "stream",
     "text": [
      "what is your name?hyoniii\n",
      "hyoniii\n"
     ]
    }
   ],
   "source": [
    "z = input(\"what is your name?\")\n",
    "print(z)"
   ]
  },
  {
   "cell_type": "code",
   "execution_count": 7,
   "metadata": {},
   "outputs": [
    {
     "name": "stdout",
     "output_type": "stream",
     "text": [
      "what is your name?anna\n",
      "how old are you?17\n",
      "Your name is anna,17 years old\n"
     ]
    }
   ],
   "source": [
    "name = input(\"what is your name?\")\n",
    "age = input(\"how old are you?\")\n",
    "print(\"Your name is {},{} years old\".format(name,age))"
   ]
  },
  {
   "cell_type": "markdown",
   "metadata": {},
   "source": [
    "## 형변환\n",
    "'3' 은 숫자가 아니다. 따라서 숫자로 바꿔줘야 한다.\n",
    "기본데이터타입은 총 3개\n",
    "바꾸는 방법은? int(), float(), str()"
   ]
  },
  {
   "cell_type": "code",
   "execution_count": 8,
   "metadata": {},
   "outputs": [
    {
     "data": {
      "text/plain": [
       "str"
      ]
     },
     "execution_count": 8,
     "metadata": {},
     "output_type": "execute_result"
    }
   ],
   "source": [
    "q = \"27\"\n",
    "type(q)"
   ]
  },
  {
   "cell_type": "code",
   "execution_count": 13,
   "metadata": {},
   "outputs": [
    {
     "data": {
      "text/plain": [
       "int"
      ]
     },
     "execution_count": 13,
     "metadata": {},
     "output_type": "execute_result"
    }
   ],
   "source": [
    "q = int(q) ##재할당\n",
    "type(q)"
   ]
  },
  {
   "cell_type": "code",
   "execution_count": 14,
   "metadata": {},
   "outputs": [
    {
     "name": "stdout",
     "output_type": "stream",
     "text": [
      "가로의 길이2\n",
      "세로의 길이3\n"
     ]
    },
    {
     "ename": "TypeError",
     "evalue": "can't multiply sequence by non-int of type 'str'",
     "output_type": "error",
     "traceback": [
      "\u001b[0;31m---------------------------------------------------------------------------\u001b[0m",
      "\u001b[0;31mTypeError\u001b[0m                                 Traceback (most recent call last)",
      "\u001b[0;32m<ipython-input-14-92f3f3af0e9b>\u001b[0m in \u001b[0;36m<module>\u001b[0;34m\u001b[0m\n\u001b[1;32m      1\u001b[0m \u001b[0ma\u001b[0m \u001b[0;34m=\u001b[0m \u001b[0minput\u001b[0m\u001b[0;34m(\u001b[0m\u001b[0;34m\"가로의 길이\"\u001b[0m\u001b[0;34m)\u001b[0m\u001b[0;34m\u001b[0m\u001b[0;34m\u001b[0m\u001b[0m\n\u001b[1;32m      2\u001b[0m \u001b[0mb\u001b[0m \u001b[0;34m=\u001b[0m \u001b[0minput\u001b[0m\u001b[0;34m(\u001b[0m\u001b[0;34m\"세로의 길이\"\u001b[0m\u001b[0;34m)\u001b[0m\u001b[0;34m\u001b[0m\u001b[0;34m\u001b[0m\u001b[0m\n\u001b[0;32m----> 3\u001b[0;31m \u001b[0mprint\u001b[0m\u001b[0;34m(\u001b[0m\u001b[0;34m\"사각형의 넓이는 {}이다.\"\u001b[0m\u001b[0;34m.\u001b[0m\u001b[0mformat\u001b[0m\u001b[0;34m(\u001b[0m\u001b[0ma\u001b[0m\u001b[0;34m*\u001b[0m\u001b[0mb\u001b[0m\u001b[0;34m)\u001b[0m\u001b[0;34m)\u001b[0m\u001b[0;34m\u001b[0m\u001b[0;34m\u001b[0m\u001b[0m\n\u001b[0m",
      "\u001b[0;31mTypeError\u001b[0m: can't multiply sequence by non-int of type 'str'"
     ]
    }
   ],
   "source": [
    "a = input(\"가로의 길이\")\n",
    "b = input(\"세로의 길이\")\n",
    "print(\"사각형의 넓이는 {}이다.\".format(a*b))"
   ]
  },
  {
   "cell_type": "markdown",
   "metadata": {},
   "source": [
    "### _위 코드가 오류나는 이유는 input으로 입력받은 값은 모두 문자열로 처리되기 때문이다._\n",
    "### _그 때문에 아래처럼 숫자는 int(), float()로 형 변환을 시켜줘야한다_"
   ]
  },
  {
   "cell_type": "code",
   "execution_count": 15,
   "metadata": {},
   "outputs": [
    {
     "name": "stdout",
     "output_type": "stream",
     "text": [
      "가로의 길이3\n",
      "세로의 길이4\n",
      "사각형의 넓이는 12이다.\n"
     ]
    }
   ],
   "source": [
    "a = input(\"가로의 길이\")\n",
    "a = int(a)\n",
    "b = input(\"세로의 길이\")\n",
    "b = int(b)\n",
    "print(\"사각형의 넓이는 {}이다.\".format(a*b))"
   ]
  },
  {
   "cell_type": "code",
   "execution_count": null,
   "metadata": {},
   "outputs": [],
   "source": []
  },
  {
   "cell_type": "markdown",
   "metadata": {},
   "source": [
    "## input 문제\n",
    "\n",
    "- import calendar\n",
    "- calendar.month(theyear, themonth)¶\n",
    "\n",
    "둘을 이용하여 현재 날짜의 달력을 구현하라."
   ]
  },
  {
   "cell_type": "code",
   "execution_count": 17,
   "metadata": {},
   "outputs": [],
   "source": [
    "import calendar"
   ]
  },
  {
   "cell_type": "code",
   "execution_count": 21,
   "metadata": {},
   "outputs": [
    {
     "name": "stdout",
     "output_type": "stream",
     "text": [
      "올해는 몇 년도입니까?2020\n",
      "지금은 몇 월입니까?8\n"
     ]
    }
   ],
   "source": [
    "year = int(input(\"올해는 몇 년도입니까?\"))\n",
    "\n",
    "month = int(input(\"지금은 몇 월입니까?\"))\n",
    "\n",
    "now = calendar.month(year,month)"
   ]
  },
  {
   "cell_type": "code",
   "execution_count": 22,
   "metadata": {},
   "outputs": [
    {
     "name": "stdout",
     "output_type": "stream",
     "text": [
      "    August 2020\n",
      "Mo Tu We Th Fr Sa Su\n",
      "                1  2\n",
      " 3  4  5  6  7  8  9\n",
      "10 11 12 13 14 15 16\n",
      "17 18 19 20 21 22 23\n",
      "24 25 26 27 28 29 30\n",
      "31\n",
      "\n"
     ]
    }
   ],
   "source": [
    "print(now)"
   ]
  },
  {
   "cell_type": "code",
   "execution_count": null,
   "metadata": {},
   "outputs": [],
   "source": []
  },
  {
   "cell_type": "markdown",
   "metadata": {},
   "source": [
    "First is 4.3, and second is 5.21. So, Multiplication = 22.403, addition = 9.51¶\n",
    "\n",
    "위 처럼 출력할 수 있는 코드를 만들어라"
   ]
  },
  {
   "cell_type": "code",
   "execution_count": 23,
   "metadata": {},
   "outputs": [
    {
     "name": "stdout",
     "output_type": "stream",
     "text": [
      "4.3\n",
      "5.21\n",
      "First is 4.3, and second is 5.21, Mutiplication = 22.403,addition = 9.51\n"
     ]
    }
   ],
   "source": [
    "first = float(input())\n",
    "second = float(input())\n",
    "\n",
    "print(\"First is {}, and second is {}, Mutiplication = {},addition = {}\".format(first,second,first*second,first+second))"
   ]
  },
  {
   "cell_type": "code",
   "execution_count": null,
   "metadata": {},
   "outputs": [],
   "source": []
  },
  {
   "cell_type": "markdown",
   "metadata": {},
   "source": [
    "# STRINGS - 문자열\n",
    "- 각각의 하나의 문자들이 나열된 상태, 즉 시퀀스(sequence) 이다!!!\n",
    "- 문자열은, 싱글퀏이나 더블퀏 (single or double quotes)으로 감싸야 한다.\n",
    "- 문자열에 다음처럼 작은따옴표가 겹치면, 에러가 난다. \n",
    "- 문자열에 큰따옴표가 들어있는 경우에는, 이스케이프 캐릭터 \\\" 를 이용해서 처리할 수 도 있다.\n",
    "\n",
    "[참고](https://vision-ai.tistory.com/entry/Python-Strings-%ED%8C%8C%EC%9D%B4%EC%8D%AC-%EB%AC%B8%EC%9E%90%EC%97%B4-%EB%A7%8C%EB%93%A4%EA%B8%B0)"
   ]
  },
  {
   "cell_type": "code",
   "execution_count": 25,
   "metadata": {},
   "outputs": [
    {
     "name": "stdout",
     "output_type": "stream",
     "text": [
      "Hello world hi world\n"
     ]
    }
   ],
   "source": [
    "y = \"Hello world\"\n",
    "r = 'hi world'\n",
    "print(y,r)"
   ]
  },
  {
   "cell_type": "code",
   "execution_count": 26,
   "metadata": {},
   "outputs": [
    {
     "name": "stdout",
     "output_type": "stream",
     "text": [
      " I said, \"I'm your farther\" yesterday \n"
     ]
    }
   ],
   "source": [
    "papa = ''' I said, \"I'm your farther\" yesterday '''\n",
    "print(papa)"
   ]
  },
  {
   "cell_type": "markdown",
   "metadata": {},
   "source": [
    "### 3개의 단일 부호로 문자열을 만들 수 있다. 특히 줄을 바꿔가면서 긴 문자열 만들때 유용.¶"
   ]
  },
  {
   "cell_type": "code",
   "execution_count": 27,
   "metadata": {},
   "outputs": [
    {
     "name": "stdout",
     "output_type": "stream",
     "text": [
      "So \"it is\" quite different, then, if in a mountain town\n",
      "the mountains are close, rather than far. Here\n",
      "\n",
      "they are far, their distance away established,\n",
      "consistent year to year, like a parent’s\n",
      "\n",
      "or sibling’s. They have their own music.\n",
      "So I confess I do not know what it’s like,\n",
      "\n",
      "listening to mountains up close, like a lover,\n",
      "the silence of them known, not guessed at.\n"
     ]
    }
   ],
   "source": [
    "poem = '''So \"it is\" quite different, then, if in a mountain town\n",
    "the mountains are close, rather than far. Here\n",
    "\n",
    "they are far, their distance away established,\n",
    "consistent year to year, like a parent’s\n",
    "\n",
    "or sibling’s. They have their own music.\n",
    "So I confess I do not know what it’s like,\n",
    "\n",
    "listening to mountains up close, like a lover,\n",
    "the silence of them known, not guessed at.'''\n",
    "\n",
    "print(poem)"
   ]
  },
  {
   "cell_type": "markdown",
   "metadata": {},
   "source": [
    "## 문자열을 다루는 함수들\n",
    "[강의참고 : 문자열 함수](https://vision-ai.tistory.com/entry/%ED%8C%8C%EC%9D%B4%EC%8D%AC-%EB%AC%B8%EC%9E%90%EC%97%B4-%ED%95%A8%EC%88%98-upper-lower-title-split-%EB%AC%B8%EC%9E%90%EC%97%B4-%EB%B6%84%EB%A6%AC%ED%95%98%EA%B8%B0)\n",
    "### 더하기 연산 ( + 연산자 )  : 문자열 결합\n",
    "- + 연산자는, 숫자 뿐만 아니라 문자열에서도 사용이 가능하다.\n",
    "- 여러 문자열들을 결합할 수 있다.\n",
    "- + 연산자 (더하기 연산자) 를 사용하면, 문자열을 옆으로 붙이게 된다. 즉, 문자열을 결합시킨다.\n",
    "- 두개의 문자열을 결합시키는 것도 되고, 여러개의 문자열을 결합시킬 수도 있다.\n",
    "- 더하기 연산자를 이용해서 문자열을 붙일 때, 공백을 포함시켜서 결합시키려면, \" \" 공백 문자열을 중간에 넣어주면 된다."
   ]
  },
  {
   "cell_type": "code",
   "execution_count": 32,
   "metadata": {},
   "outputs": [
    {
     "name": "stdout",
     "output_type": "stream",
     "text": [
      "Hyunhee Park\n"
     ]
    }
   ],
   "source": [
    "first_name = \"Hyunhee\"\n",
    "last_name = \"Park\"\n",
    "\n",
    "full_name = first_name + \" \" +last_name\n",
    "\n",
    "print(full_name)"
   ]
  },
  {
   "cell_type": "code",
   "execution_count": null,
   "metadata": {},
   "outputs": [],
   "source": []
  },
  {
   "cell_type": "code",
   "execution_count": null,
   "metadata": {},
   "outputs": [],
   "source": []
  },
  {
   "cell_type": "code",
   "execution_count": null,
   "metadata": {},
   "outputs": [],
   "source": []
  },
  {
   "cell_type": "code",
   "execution_count": null,
   "metadata": {},
   "outputs": [],
   "source": []
  },
  {
   "cell_type": "markdown",
   "metadata": {},
   "source": [
    "### 대소문자 처리하는, upper() lower()  title() 함수\n",
    "\n",
    "- 문자열을 대문자 로 바꿀 수 있는 upper()\n",
    "- 문자열을 소문자 로 바꿀 수 있는 lower() \n",
    "- 문자열을 단어 앞만 대문자로 바꿀 수 있는 title() 함수도 있다."
   ]
  },
  {
   "cell_type": "code",
   "execution_count": 37,
   "metadata": {},
   "outputs": [
    {
     "name": "stdout",
     "output_type": "stream",
     "text": [
      "HYUNHEE PARK\n"
     ]
    }
   ],
   "source": [
    "upper_name = full_name.upper()\n",
    "\n",
    "print(upper_name)"
   ]
  },
  {
   "cell_type": "code",
   "execution_count": 38,
   "metadata": {},
   "outputs": [
    {
     "name": "stdout",
     "output_type": "stream",
     "text": [
      "hyunhee park\n"
     ]
    }
   ],
   "source": [
    "low_name = upper_name.lower()\n",
    "print(low_name)"
   ]
  },
  {
   "cell_type": "code",
   "execution_count": 40,
   "metadata": {},
   "outputs": [
    {
     "name": "stdout",
     "output_type": "stream",
     "text": [
      "Hyunhee Park\n"
     ]
    }
   ],
   "source": [
    "title_name = low_name.title()\n",
    "print(title_name)"
   ]
  },
  {
   "cell_type": "markdown",
   "metadata": {},
   "source": [
    "### 문자열을 쪼갤 수 있는 split() 함수 - 쪼갠 결과는 list 로 반환된다.\n",
    "\n",
    "- 문자열을 공백( \" \" ) 으로 쪼갤수 있다. 즉, 문자열을 단어들로 분리해 낼 수 있다. split() \n",
    "- 문자열을 특정 글자로도 쪼갤 수 있다. 't' 로 쪼개면, 3개의 단어로 분리된다. split('t')\n",
    "- 문자열을 특정 문자열로도 쪼갤 수 있다. 'ch'로 쪼개면, 2개의 단어로 분리된다. split('ch') \n",
    "- 이메일 주소가 있으면, @로 문자열을 분리해 낼 수 있다. split('@') \n",
    "- split() 함수를 통해 나온 결과는, 리스트로 반환된다."
   ]
  },
  {
   "cell_type": "code",
   "execution_count": 41,
   "metadata": {},
   "outputs": [
    {
     "data": {
      "text/plain": [
       "['Hyunhee', 'Park']"
      ]
     },
     "execution_count": 41,
     "metadata": {},
     "output_type": "execute_result"
    }
   ],
   "source": [
    "title_name.split()"
   ]
  },
  {
   "cell_type": "code",
   "execution_count": 42,
   "metadata": {},
   "outputs": [
    {
     "data": {
      "text/plain": [
       "['Hyunh', '', ' Park']"
      ]
     },
     "execution_count": 42,
     "metadata": {},
     "output_type": "execute_result"
    }
   ],
   "source": [
    "title_name.split(\"e\")"
   ]
  },
  {
   "cell_type": "code",
   "execution_count": 45,
   "metadata": {},
   "outputs": [
    {
     "data": {
      "text/plain": [
       "['abc', 'cba.com']"
      ]
     },
     "execution_count": 45,
     "metadata": {},
     "output_type": "execute_result"
    }
   ],
   "source": [
    "email = \"abc@cba.com\"\n",
    "\n",
    "email.split(\"@\")"
   ]
  },
  {
   "cell_type": "markdown",
   "metadata": {},
   "source": [
    "## 문자추출"
   ]
  },
  {
   "cell_type": "markdown",
   "metadata": {},
   "source": [
    "### 문자 한개만 추출하기\n",
    "순방향, 역방향 이해\n",
    "\n",
    "[참고](https://vision-ai.tistory.com/entry/%ED%8C%8C%EC%9D%B4%EC%8D%AC-%EB%AC%B8%EC%9E%90%EC%97%B4-%EC%B6%94%EC%B6%9C%EC%8A%AC%EB%9D%BC%EC%9D%B4%EC%8B%B1-Slicing-%EC%BD%9C%EB%A1%A0-%EC%82%AC%EC%9A%A9%EB%B2%95)"
   ]
  },
  {
   "cell_type": "code",
   "execution_count": 47,
   "metadata": {},
   "outputs": [],
   "source": [
    "letters = 'abcdefghijklmnopqrstuvwxyz'"
   ]
  },
  {
   "cell_type": "code",
   "execution_count": 48,
   "metadata": {},
   "outputs": [
    {
     "data": {
      "text/plain": [
       "'a'"
      ]
     },
     "execution_count": 48,
     "metadata": {},
     "output_type": "execute_result"
    }
   ],
   "source": [
    "letters[0]"
   ]
  },
  {
   "cell_type": "code",
   "execution_count": 49,
   "metadata": {},
   "outputs": [
    {
     "data": {
      "text/plain": [
       "'d'"
      ]
     },
     "execution_count": 49,
     "metadata": {},
     "output_type": "execute_result"
    }
   ],
   "source": [
    "letters[3]"
   ]
  },
  {
   "cell_type": "markdown",
   "metadata": {},
   "source": [
    "### _주의_\n",
    "- 문자열은 immutable 이다. 따라서 한번 생성된 문자열 자체를 바꾸는것은 할 수 없다.\n",
    "- 따라서, 새로운 메모리에 변경한 문자열을 새로 만드는 방법을 사용하게 된다."
   ]
  },
  {
   "cell_type": "code",
   "execution_count": 50,
   "metadata": {},
   "outputs": [
    {
     "ename": "TypeError",
     "evalue": "'str' object does not support item assignment",
     "output_type": "error",
     "traceback": [
      "\u001b[0;31m----------------------------------------------------------------\u001b[0m",
      "\u001b[0;31mTypeError\u001b[0m                      Traceback (most recent call last)",
      "\u001b[0;32m<ipython-input-50-8260482c048d>\u001b[0m in \u001b[0;36m<module>\u001b[0;34m\u001b[0m\n\u001b[0;32m----> 1\u001b[0;31m \u001b[0mletters\u001b[0m\u001b[0;34m[\u001b[0m\u001b[0;36m0\u001b[0m\u001b[0;34m]\u001b[0m \u001b[0;34m=\u001b[0m \u001b[0;34m'k'\u001b[0m\u001b[0;34m\u001b[0m\u001b[0;34m\u001b[0m\u001b[0m\n\u001b[0m",
      "\u001b[0;31mTypeError\u001b[0m: 'str' object does not support item assignment"
     ]
    }
   ],
   "source": [
    "letters[0] = 'k'"
   ]
  },
  {
   "cell_type": "code",
   "execution_count": null,
   "metadata": {},
   "outputs": [],
   "source": []
  },
  {
   "cell_type": "code",
   "execution_count": null,
   "metadata": {},
   "outputs": [],
   "source": []
  },
  {
   "cell_type": "markdown",
   "metadata": {},
   "source": [
    "### 문자열 바꾸기 파이썬 replace() 함수\n",
    "\n",
    "문자열을 바꿀 수도 있다. 'abc' 를 ' hello '로 바꾼다. \n",
    "\n",
    "이때, 원본 문자열은 절대 바뀌지 않는다. "
   ]
  },
  {
   "cell_type": "code",
   "execution_count": 62,
   "metadata": {},
   "outputs": [],
   "source": [
    "new_letter = letters.replace(\"abc\",\"Hello\")"
   ]
  },
  {
   "cell_type": "code",
   "execution_count": 53,
   "metadata": {},
   "outputs": [
    {
     "name": "stdout",
     "output_type": "stream",
     "text": [
      "Hellodefghijklmnopqrstuvwxyz\n"
     ]
    }
   ],
   "source": [
    "print(new_letter)"
   ]
  },
  {
   "cell_type": "markdown",
   "metadata": {},
   "source": [
    "### 문자열의 일부를 추출하기\n",
    "- [:] 처음부터 끝까지\n",
    "- [start:] start오프셋부터 끝까지\n",
    "- [:end] 처음부터 end-1 오프셋까지\n",
    "- [start : end] start오프셋부터 end-1 오프셋까지\n",
    "- [start : end : step] step만큼 문자를 건너뛰면서, 위와 동일하게 추출"
   ]
  },
  {
   "cell_type": "code",
   "execution_count": 54,
   "metadata": {},
   "outputs": [
    {
     "data": {
      "text/plain": [
       "'abcdefghijklmnopqrstuvwxyz'"
      ]
     },
     "execution_count": 54,
     "metadata": {},
     "output_type": "execute_result"
    }
   ],
   "source": [
    "letters"
   ]
  },
  {
   "cell_type": "code",
   "execution_count": 55,
   "metadata": {},
   "outputs": [
    {
     "data": {
      "text/plain": [
       "'abc'"
      ]
     },
     "execution_count": 55,
     "metadata": {},
     "output_type": "execute_result"
    }
   ],
   "source": [
    "letters[0:3]"
   ]
  },
  {
   "cell_type": "code",
   "execution_count": 56,
   "metadata": {},
   "outputs": [
    {
     "data": {
      "text/plain": [
       "'xyz'"
      ]
     },
     "execution_count": 56,
     "metadata": {},
     "output_type": "execute_result"
    }
   ],
   "source": [
    "letters[-3:]"
   ]
  },
  {
   "cell_type": "code",
   "execution_count": 57,
   "metadata": {},
   "outputs": [
    {
     "data": {
      "text/plain": [
       "'uvwx'"
      ]
     },
     "execution_count": 57,
     "metadata": {},
     "output_type": "execute_result"
    }
   ],
   "source": [
    "letters[-6 : -3 + 1]"
   ]
  },
  {
   "cell_type": "code",
   "execution_count": 58,
   "metadata": {},
   "outputs": [
    {
     "data": {
      "text/plain": [
       "'zyxwvutsrqponmlkjihgfedcba'"
      ]
     },
     "execution_count": 58,
     "metadata": {},
     "output_type": "execute_result"
    }
   ],
   "source": [
    "letters[ : : -1]"
   ]
  },
  {
   "cell_type": "markdown",
   "metadata": {},
   "source": [
    "### 문자열의 길이\n",
    "- len() 함수를 사용하여 몇개의 문자로 되어있는지 알 수 있다."
   ]
  },
  {
   "cell_type": "code",
   "execution_count": 59,
   "metadata": {},
   "outputs": [
    {
     "data": {
      "text/plain": [
       "'So \"it is\" quite different, then, if in a mountain town\\nthe mountains are close, rather than far. Here\\n\\nthey are far, their distance away established,\\nconsistent year to year, like a parent’s\\n\\nor sibling’s. They have their own music.\\nSo I confess I do not know what it’s like,\\n\\nlistening to mountains up close, like a lover,\\nthe silence of them known, not guessed at.'"
      ]
     },
     "execution_count": 59,
     "metadata": {},
     "output_type": "execute_result"
    }
   ],
   "source": [
    "poem"
   ]
  },
  {
   "cell_type": "code",
   "execution_count": 61,
   "metadata": {},
   "outputs": [
    {
     "data": {
      "text/plain": [
       "367"
      ]
     },
     "execution_count": 61,
     "metadata": {},
     "output_type": "execute_result"
    }
   ],
   "source": [
    "len(poem)"
   ]
  },
  {
   "cell_type": "markdown",
   "metadata": {},
   "source": [
    "#### 공백포함\n",
    "len 함수를 이용해서 문자의 갯수를 파악하는데, 이때 주의할 점은, 공백이 포함되어 있으면, 공백도 하나의 문자로 갯수를 센다.\n",
    "\n",
    "따라서 ex_str 의 문자 앞과 뒤에 공백이 하나씩 있고, hello와 world 사이에도 공백이 있으므로, 총 13글자가 된다."
   ]
  },
  {
   "cell_type": "code",
   "execution_count": 64,
   "metadata": {},
   "outputs": [
    {
     "data": {
      "text/plain": [
       "13"
      ]
     },
     "execution_count": 64,
     "metadata": {},
     "output_type": "execute_result"
    }
   ],
   "source": [
    "ex_str = \" hello world \"\n",
    "\n",
    "len(ex_str)"
   ]
  },
  {
   "cell_type": "code",
   "execution_count": null,
   "metadata": {},
   "outputs": [],
   "source": []
  },
  {
   "cell_type": "markdown",
   "metadata": {},
   "source": [
    "### 문자열 위치 찾기\n",
    "- find 함수는, 찾고자 하는 문자열이 존재하는 곳의 첫번째 오프셋을 알려준다.\n",
    "- rfind 함수는, 찾고자 하는 문자열이 있는 마지막 오프셋을 알려준다.\n",
    "- 문자열에 없는 문자열을 찾으라고 하면, -1 을 리턴한다."
   ]
  },
  {
   "cell_type": "code",
   "execution_count": 65,
   "metadata": {},
   "outputs": [
    {
     "data": {
      "text/plain": [
       "'So \"it is\" quite different, then, if in a mountain town\\nthe mountains are close, rather than far. Here\\n\\nthey are far, their distance away established,\\nconsistent year to year, like a parent’s\\n\\nor sibling’s. They have their own music.\\nSo I confess I do not know what it’s like,\\n\\nlistening to mountains up close, like a lover,\\nthe silence of them known, not guessed at.'"
      ]
     },
     "execution_count": 65,
     "metadata": {},
     "output_type": "execute_result"
    }
   ],
   "source": [
    "poem\n"
   ]
  },
  {
   "cell_type": "code",
   "execution_count": 69,
   "metadata": {},
   "outputs": [
    {
     "data": {
      "text/plain": [
       "18"
      ]
     },
     "execution_count": 69,
     "metadata": {},
     "output_type": "execute_result"
    }
   ],
   "source": [
    "poem.find(\"if\")"
   ]
  },
  {
   "cell_type": "code",
   "execution_count": 70,
   "metadata": {},
   "outputs": [
    {
     "data": {
      "text/plain": [
       "162"
      ]
     },
     "execution_count": 70,
     "metadata": {},
     "output_type": "execute_result"
    }
   ],
   "source": [
    "poem.find(\"year\")"
   ]
  },
  {
   "cell_type": "code",
   "execution_count": 72,
   "metadata": {},
   "outputs": [
    {
     "data": {
      "text/plain": [
       "-1"
      ]
     },
     "execution_count": 72,
     "metadata": {},
     "output_type": "execute_result"
    }
   ],
   "source": [
    "poem.find(\"apple\")"
   ]
  },
  {
   "cell_type": "code",
   "execution_count": null,
   "metadata": {},
   "outputs": [],
   "source": []
  },
  {
   "cell_type": "markdown",
   "metadata": {},
   "source": [
    "### 문자열의 갯수 파악\n",
    "- count() 함수는 몇개의 문자열이 있는지 알려준다."
   ]
  },
  {
   "cell_type": "code",
   "execution_count": 73,
   "metadata": {},
   "outputs": [
    {
     "data": {
      "text/plain": [
       "2"
      ]
     },
     "execution_count": 73,
     "metadata": {},
     "output_type": "execute_result"
    }
   ],
   "source": [
    "poem.count(\"if\")"
   ]
  },
  {
   "cell_type": "code",
   "execution_count": 75,
   "metadata": {},
   "outputs": [
    {
     "data": {
      "text/plain": [
       "2"
      ]
     },
     "execution_count": 75,
     "metadata": {},
     "output_type": "execute_result"
    }
   ],
   "source": [
    "poem.count(\"year\")"
   ]
  },
  {
   "cell_type": "code",
   "execution_count": 76,
   "metadata": {},
   "outputs": [
    {
     "data": {
      "text/plain": [
       "0"
      ]
     },
     "execution_count": 76,
     "metadata": {},
     "output_type": "execute_result"
    }
   ],
   "source": [
    "poem.count(\"apple\")"
   ]
  },
  {
   "cell_type": "code",
   "execution_count": null,
   "metadata": {},
   "outputs": [],
   "source": []
  },
  {
   "cell_type": "markdown",
   "metadata": {},
   "source": [
    "### 문제\n",
    "\n",
    "입력 예) 유저로부터 : 안녕하세요? 오늘 날씨가 아주 좋네요.\n",
    "\n",
    "출력 예) ['안녕하세요?', '오늘', '날씨가', '아주', '좋네요.']"
   ]
  },
  {
   "cell_type": "code",
   "execution_count": 77,
   "metadata": {},
   "outputs": [
    {
     "name": "stdout",
     "output_type": "stream",
     "text": [
      "입력하세요안녕하세요? 오늘 날씨가 아주 좋네요.\n",
      "['안녕하세요?', '오늘', '날씨가', '아주', '좋네요.']\n"
     ]
    }
   ],
   "source": [
    "sentence = input(\"입력하세요\")\n",
    "print(sentence.split())"
   ]
  },
  {
   "cell_type": "code",
   "execution_count": null,
   "metadata": {},
   "outputs": [],
   "source": []
  },
  {
   "cell_type": "code",
   "execution_count": null,
   "metadata": {},
   "outputs": [],
   "source": []
  },
  {
   "cell_type": "code",
   "execution_count": null,
   "metadata": {},
   "outputs": [],
   "source": []
  },
  {
   "cell_type": "markdown",
   "metadata": {},
   "source": [
    "# LISTS\n",
    "- 데이터를 여러 개 저장하는데 사용합니다.\n",
    "- 순서가 있습니다. 즉, 인덱스를 가지고 있습니다.\n",
    "- 값을 바꿀 수 있습니다. 즉, mutable 이라고 합니다.\n",
    "\n",
    "[참고](https://vision-ai.tistory.com/entry/%ED%8C%8C%EC%9D%B4%EC%8D%AC-%EB%A6%AC%EC%8A%A4%ED%8A%B8-%EB%A7%8C%EB%93%A4%EA%B8%B0-Python-List-1)"
   ]
  },
  {
   "cell_type": "markdown",
   "metadata": {},
   "source": [
    "### 리스트 만들기\n",
    "파이썬 리스트에서 비어있는 리스트, 즉 아무것도 없는 리스트는 아래처럼 두가지 방법으로 생성할 수 있습니다.\n",
    "\n",
    "- 대괄호를 사용하는 방법 : [ ]\n",
    "- list() 함수를 사용하는 방법"
   ]
  },
  {
   "cell_type": "code",
   "execution_count": 78,
   "metadata": {},
   "outputs": [],
   "source": [
    "list_one = []"
   ]
  },
  {
   "cell_type": "code",
   "execution_count": 79,
   "metadata": {},
   "outputs": [
    {
     "name": "stdout",
     "output_type": "stream",
     "text": [
      "[]\n"
     ]
    }
   ],
   "source": [
    "print(list_one)"
   ]
  },
  {
   "cell_type": "code",
   "execution_count": 82,
   "metadata": {},
   "outputs": [],
   "source": [
    "list_two = list()"
   ]
  },
  {
   "cell_type": "code",
   "execution_count": 83,
   "metadata": {},
   "outputs": [
    {
     "name": "stdout",
     "output_type": "stream",
     "text": [
      "[]\n"
     ]
    }
   ],
   "source": [
    "print(list_one)"
   ]
  },
  {
   "cell_type": "markdown",
   "metadata": {},
   "source": [
    "### 여러 종류의 데이터를, 하나의 리스트에 저장 가능함¶"
   ]
  },
  {
   "cell_type": "code",
   "execution_count": 85,
   "metadata": {},
   "outputs": [],
   "source": [
    "list_three = [1,\"2\",\"hello\",[1,2,3]]"
   ]
  },
  {
   "cell_type": "markdown",
   "metadata": {},
   "source": [
    "### 리스트 offset 으로 값을 얻기¶"
   ]
  },
  {
   "cell_type": "code",
   "execution_count": 88,
   "metadata": {},
   "outputs": [
    {
     "data": {
      "text/plain": [
       "1"
      ]
     },
     "execution_count": 88,
     "metadata": {},
     "output_type": "execute_result"
    }
   ],
   "source": [
    "list_three[0]"
   ]
  },
  {
   "cell_type": "code",
   "execution_count": 89,
   "metadata": {},
   "outputs": [
    {
     "data": {
      "text/plain": [
       "[1, 2, 3]"
      ]
     },
     "execution_count": 89,
     "metadata": {},
     "output_type": "execute_result"
    }
   ],
   "source": [
    "list_three[3]"
   ]
  },
  {
   "cell_type": "markdown",
   "metadata": {},
   "source": [
    "### 리스트 안에 있는 리스트의 값을 얻기¶"
   ]
  },
  {
   "cell_type": "code",
   "execution_count": 90,
   "metadata": {},
   "outputs": [
    {
     "data": {
      "text/plain": [
       "2"
      ]
     },
     "execution_count": 90,
     "metadata": {},
     "output_type": "execute_result"
    }
   ],
   "source": [
    "list_three[3][1]"
   ]
  },
  {
   "cell_type": "markdown",
   "metadata": {},
   "source": [
    "### offset 으로, 리스트 안에 있는 값을 바꾸기"
   ]
  },
  {
   "cell_type": "code",
   "execution_count": 91,
   "metadata": {},
   "outputs": [],
   "source": [
    "list_three[2] = \"13\"\n"
   ]
  },
  {
   "cell_type": "code",
   "execution_count": 92,
   "metadata": {},
   "outputs": [
    {
     "data": {
      "text/plain": [
       "[1, '2', '13', [1, 2, 3]]"
      ]
     },
     "execution_count": 92,
     "metadata": {},
     "output_type": "execute_result"
    }
   ],
   "source": [
    "list_three"
   ]
  },
  {
   "cell_type": "markdown",
   "metadata": {},
   "source": [
    "### 리스트에 항목을 추가하기\n",
    "- 리스트 중간에, 원하는 위치(index) 에, 값을 추가하기 insert()"
   ]
  },
  {
   "cell_type": "code",
   "execution_count": 93,
   "metadata": {},
   "outputs": [],
   "source": [
    "week = ['Monday', 'Tuesday', 'Wednesday', 'Thursday', 'Friday']"
   ]
  },
  {
   "cell_type": "code",
   "execution_count": 94,
   "metadata": {},
   "outputs": [],
   "source": [
    "week.insert(5,\"Saturday\")"
   ]
  },
  {
   "cell_type": "code",
   "execution_count": 95,
   "metadata": {},
   "outputs": [
    {
     "data": {
      "text/plain": [
       "['Monday', 'Tuesday', 'Wednesday', 'Thursday', 'Friday', 'Saturday']"
      ]
     },
     "execution_count": 95,
     "metadata": {},
     "output_type": "execute_result"
    }
   ],
   "source": [
    "week"
   ]
  },
  {
   "cell_type": "code",
   "execution_count": 96,
   "metadata": {},
   "outputs": [],
   "source": [
    "week.insert(0,\"Sunday\")"
   ]
  },
  {
   "cell_type": "code",
   "execution_count": 97,
   "metadata": {},
   "outputs": [
    {
     "data": {
      "text/plain": [
       "['Sunday', 'Monday', 'Tuesday', 'Wednesday', 'Thursday', 'Friday', 'Saturday']"
      ]
     },
     "execution_count": 97,
     "metadata": {},
     "output_type": "execute_result"
    }
   ],
   "source": [
    "week"
   ]
  },
  {
   "cell_type": "markdown",
   "metadata": {},
   "source": [
    "### 항목을 삭제하기¶\n",
    "- 인덱스를 이용해서, 삭제하기 원하는 위치의 값을 삭제하기 del"
   ]
  },
  {
   "cell_type": "code",
   "execution_count": 98,
   "metadata": {},
   "outputs": [],
   "source": [
    "del week[1]"
   ]
  },
  {
   "cell_type": "code",
   "execution_count": 99,
   "metadata": {},
   "outputs": [
    {
     "data": {
      "text/plain": [
       "['Sunday', 'Tuesday', 'Wednesday', 'Thursday', 'Friday', 'Saturday']"
      ]
     },
     "execution_count": 99,
     "metadata": {},
     "output_type": "execute_result"
    }
   ],
   "source": [
    "week"
   ]
  },
  {
   "cell_type": "markdown",
   "metadata": {},
   "source": [
    "- 저장되어 있는 값으로 삭제하기 remove()"
   ]
  },
  {
   "cell_type": "code",
   "execution_count": 100,
   "metadata": {},
   "outputs": [],
   "source": [
    "week.remove(\"Sunday\")"
   ]
  },
  {
   "cell_type": "code",
   "execution_count": 101,
   "metadata": {},
   "outputs": [
    {
     "data": {
      "text/plain": [
       "['Tuesday', 'Wednesday', 'Thursday', 'Friday', 'Saturday']"
      ]
     },
     "execution_count": 101,
     "metadata": {},
     "output_type": "execute_result"
    }
   ],
   "source": [
    "week"
   ]
  },
  {
   "cell_type": "markdown",
   "metadata": {},
   "source": [
    "-  항목을 반환하면서, 리스트에서 값을 삭제하기 pop(),  pop(인덱스)"
   ]
  },
  {
   "cell_type": "code",
   "execution_count": 102,
   "metadata": {},
   "outputs": [],
   "source": [
    "value = week.pop() "
   ]
  },
  {
   "cell_type": "code",
   "execution_count": 103,
   "metadata": {},
   "outputs": [
    {
     "data": {
      "text/plain": [
       "'Saturday'"
      ]
     },
     "execution_count": 103,
     "metadata": {},
     "output_type": "execute_result"
    }
   ],
   "source": [
    "value"
   ]
  },
  {
   "cell_type": "code",
   "execution_count": 104,
   "metadata": {},
   "outputs": [
    {
     "data": {
      "text/plain": [
       "['Tuesday', 'Wednesday', 'Thursday', 'Friday']"
      ]
     },
     "execution_count": 104,
     "metadata": {},
     "output_type": "execute_result"
    }
   ],
   "source": [
    "week"
   ]
  },
  {
   "cell_type": "markdown",
   "metadata": {},
   "source": [
    "### 리스트 + 연산\n",
    "두개의 리스트를 + (더하기 연산) 을 이용해서, 두개 이상의 리스트를 하나의 리스트로 만들 수 있다."
   ]
  },
  {
   "cell_type": "code",
   "execution_count": 105,
   "metadata": {},
   "outputs": [
    {
     "name": "stdout",
     "output_type": "stream",
     "text": [
      "['apple', 'banana', 'pineapple', 1, 2, 3]\n"
     ]
    }
   ],
   "source": [
    "fruits = [\"apple\",\"banana\",\"pineapple\"]\n",
    "numbers = [1,2,3]\n",
    "\n",
    "print(fruits+numbers)"
   ]
  },
  {
   "cell_type": "markdown",
   "metadata": {},
   "source": [
    "### 값으로 오프셋 찾기\n",
    "인덱스 위치를 찾고자 할 때 index()"
   ]
  },
  {
   "cell_type": "code",
   "execution_count": 107,
   "metadata": {},
   "outputs": [
    {
     "data": {
      "text/plain": [
       "1"
      ]
     },
     "execution_count": 107,
     "metadata": {},
     "output_type": "execute_result"
    }
   ],
   "source": [
    "fruits.index(\"banana\")"
   ]
  },
  {
   "cell_type": "markdown",
   "metadata": {},
   "source": [
    "### 리스트 안에, 원하는 값이 있는지 확인하기 :  in 자료구조\n",
    "\"찾고자하는 값\" in \"자료구조(리스트)\" \n",
    "\n",
    "True 이면 리스트에 해당 값이 존재하는 것이고, 존재하지 않으면 False 가 리턴된다."
   ]
  },
  {
   "cell_type": "code",
   "execution_count": 111,
   "metadata": {},
   "outputs": [
    {
     "data": {
      "text/plain": [
       "True"
      ]
     },
     "execution_count": 111,
     "metadata": {},
     "output_type": "execute_result"
    }
   ],
   "source": [
    "\"apple\" in fruits"
   ]
  },
  {
   "cell_type": "markdown",
   "metadata": {},
   "source": [
    "### 찾고자 하는 항목이, 파이썬의 리스트에 몇개나 들어있는지 확인하는 count 함수"
   ]
  },
  {
   "cell_type": "code",
   "execution_count": 114,
   "metadata": {},
   "outputs": [],
   "source": [
    "fruits = ['Apple', 'Banana', 'Mango', 'Pineapple', \n",
    "          'Coconut', 'Orange', 'Strawberry', 'Lemon', 'Mango']"
   ]
  },
  {
   "cell_type": "code",
   "execution_count": 115,
   "metadata": {},
   "outputs": [
    {
     "data": {
      "text/plain": [
       "2"
      ]
     },
     "execution_count": 115,
     "metadata": {},
     "output_type": "execute_result"
    }
   ],
   "source": [
    "fruits.count('Mango')"
   ]
  },
  {
   "cell_type": "markdown",
   "metadata": {},
   "source": [
    "### 리스트의 전체 갯수 세기 : 리스트에 저장된 항목이 전부 몇개인지 확인하는 len() 함수"
   ]
  },
  {
   "cell_type": "code",
   "execution_count": 116,
   "metadata": {},
   "outputs": [
    {
     "data": {
      "text/plain": [
       "9"
      ]
     },
     "execution_count": 116,
     "metadata": {},
     "output_type": "execute_result"
    }
   ],
   "source": [
    "len(fruits)"
   ]
  },
  {
   "cell_type": "markdown",
   "metadata": {},
   "source": [
    "### 항목들을 정렬하기\n",
    "- 원래의 리스트 자체는 건들지 않고, 새롭게 정렬한 리스트를 반환하는 경우 : sorted()\n",
    "- 원래의 리스트 자체를 정렬해서 변경하는 경우 : sort()"
   ]
  },
  {
   "cell_type": "code",
   "execution_count": 117,
   "metadata": {},
   "outputs": [
    {
     "data": {
      "text/plain": [
       "['Apple',\n",
       " 'Banana',\n",
       " 'Mango',\n",
       " 'Pineapple',\n",
       " 'Coconut',\n",
       " 'Orange',\n",
       " 'Strawberry',\n",
       " 'Lemon',\n",
       " 'Mango']"
      ]
     },
     "execution_count": 117,
     "metadata": {},
     "output_type": "execute_result"
    }
   ],
   "source": [
    "fruits"
   ]
  },
  {
   "cell_type": "code",
   "execution_count": 118,
   "metadata": {},
   "outputs": [],
   "source": [
    "new_fruits = sorted(fruits)"
   ]
  },
  {
   "cell_type": "code",
   "execution_count": 119,
   "metadata": {},
   "outputs": [
    {
     "name": "stdout",
     "output_type": "stream",
     "text": [
      "['Apple', 'Banana', 'Mango', 'Pineapple', 'Coconut', 'Orange', 'Strawberry', 'Lemon', 'Mango']\n",
      "['Apple', 'Banana', 'Coconut', 'Lemon', 'Mango', 'Mango', 'Orange', 'Pineapple', 'Strawberry']\n"
     ]
    }
   ],
   "source": [
    "print(fruits)\n",
    "print(new_fruits)"
   ]
  },
  {
   "cell_type": "code",
   "execution_count": 120,
   "metadata": {},
   "outputs": [
    {
     "name": "stdout",
     "output_type": "stream",
     "text": [
      "['Apple', 'Banana', 'Mango', 'Pineapple', 'Coconut', 'Orange', 'Strawberry', 'Lemon', 'Mango']\n",
      "['Apple', 'Banana', 'Coconut', 'Lemon', 'Mango', 'Mango', 'Orange', 'Pineapple', 'Strawberry']\n"
     ]
    }
   ],
   "source": [
    "new_fruits.sort()\n",
    "\n",
    "print(fruits)\n",
    "print(new_fruits)"
   ]
  },
  {
   "cell_type": "markdown",
   "metadata": {},
   "source": [
    "### 정렬(sorting) 순서 바꾸기, 역순 (내림차순) 정렬하는 reverse 파라미터 사용"
   ]
  },
  {
   "cell_type": "code",
   "execution_count": 121,
   "metadata": {},
   "outputs": [],
   "source": [
    "num_list = [ 44, 5, 12, 100, 32]"
   ]
  },
  {
   "cell_type": "code",
   "execution_count": 122,
   "metadata": {},
   "outputs": [],
   "source": [
    "new_num_list = sorted(num_list)"
   ]
  },
  {
   "cell_type": "code",
   "execution_count": 123,
   "metadata": {},
   "outputs": [
    {
     "name": "stdout",
     "output_type": "stream",
     "text": [
      "[44, 5, 12, 100, 32]\n",
      "[5, 12, 32, 44, 100]\n"
     ]
    }
   ],
   "source": [
    "print(num_list)\n",
    "print(new_num_list)"
   ]
  },
  {
   "cell_type": "code",
   "execution_count": 124,
   "metadata": {},
   "outputs": [],
   "source": [
    "new_num_list = sorted(num_list, reverse=True)"
   ]
  },
  {
   "cell_type": "code",
   "execution_count": 125,
   "metadata": {},
   "outputs": [
    {
     "name": "stdout",
     "output_type": "stream",
     "text": [
      "[100, 44, 32, 12, 5]\n"
     ]
    }
   ],
   "source": [
    "print(new_num_list)"
   ]
  },
  {
   "cell_type": "markdown",
   "metadata": {},
   "source": [
    "### 리스트의 특성과 copy() 함수"
   ]
  },
  {
   "cell_type": "code",
   "execution_count": 126,
   "metadata": {},
   "outputs": [
    {
     "name": "stdout",
     "output_type": "stream",
     "text": [
      "['Apple', 'Banana', 'Mango', 'Pineapple', 'Coconut', 'Orange', 'Strawberry', 'Lemon', 'Mango']\n"
     ]
    }
   ],
   "source": [
    "print(fruits)"
   ]
  },
  {
   "cell_type": "code",
   "execution_count": 130,
   "metadata": {},
   "outputs": [],
   "source": [
    "my_fruits = fruits # 얕은 복사"
   ]
  },
  {
   "cell_type": "code",
   "execution_count": 128,
   "metadata": {},
   "outputs": [],
   "source": [
    "my_fruits[0] = 'Guava'"
   ]
  },
  {
   "cell_type": "code",
   "execution_count": 129,
   "metadata": {},
   "outputs": [
    {
     "name": "stdout",
     "output_type": "stream",
     "text": [
      "['Guava', 'Banana', 'Mango', 'Pineapple', 'Coconut', 'Orange', 'Strawberry', 'Lemon', 'Mango']\n",
      "['Guava', 'Banana', 'Mango', 'Pineapple', 'Coconut', 'Orange', 'Strawberry', 'Lemon', 'Mango']\n"
     ]
    }
   ],
   "source": [
    "print(my_fruits)\n",
    "print(fruits)"
   ]
  },
  {
   "cell_type": "code",
   "execution_count": 131,
   "metadata": {},
   "outputs": [],
   "source": [
    "my_fruits = fruits.copy()"
   ]
  },
  {
   "cell_type": "code",
   "execution_count": 133,
   "metadata": {},
   "outputs": [],
   "source": [
    "my_fruits[0] = 'Apple'"
   ]
  },
  {
   "cell_type": "code",
   "execution_count": 134,
   "metadata": {},
   "outputs": [
    {
     "name": "stdout",
     "output_type": "stream",
     "text": [
      "['Apple', 'Banana', 'Mango', 'Pineapple', 'Coconut', 'Orange', 'Strawberry', 'Lemon', 'Mango']\n",
      "['Guava', 'Banana', 'Mango', 'Pineapple', 'Coconut', 'Orange', 'Strawberry', 'Lemon', 'Mango']\n"
     ]
    }
   ],
   "source": [
    "print(my_fruits)\n",
    "print(fruits)"
   ]
  },
  {
   "cell_type": "code",
   "execution_count": null,
   "metadata": {},
   "outputs": [],
   "source": []
  },
  {
   "cell_type": "markdown",
   "metadata": {},
   "source": [
    "## 문제\n",
    "### 0. grade1 라는 변수에 3을 저장하세요. grade2 라는 변수에는 8을 저장하세요. 그리고 두 변수를 더한 값을 출력하세요.¶"
   ]
  },
  {
   "cell_type": "code",
   "execution_count": 135,
   "metadata": {},
   "outputs": [
    {
     "name": "stdout",
     "output_type": "stream",
     "text": [
      "11\n"
     ]
    }
   ],
   "source": [
    "grade1 = 3\n",
    "grade2 = 8\n",
    "print(grade1+grade2)"
   ]
  },
  {
   "cell_type": "markdown",
   "metadata": {},
   "source": [
    "### 1. 다음(Daum)의 주가가 89,000원이고 네이버(Naver)의 주가가 751,000원이라고 가정하고, 어떤 사람이 다음 주식 100주와 네이버 주식 20주를 가지고 있을 때 그 사람이 가지고 있는 주식의 총액을 계산하는 코드를 작성하세요."
   ]
  },
  {
   "cell_type": "code",
   "execution_count": 138,
   "metadata": {},
   "outputs": [
    {
     "name": "stdout",
     "output_type": "stream",
     "text": [
      "23920000\n"
     ]
    }
   ],
   "source": [
    "daum = 89000\n",
    "naver = 751000\n",
    "\n",
    "had = daum*100 + naver*20\n",
    "print(had)"
   ]
  },
  {
   "cell_type": "code",
   "execution_count": null,
   "metadata": {},
   "outputs": [],
   "source": []
  },
  {
   "cell_type": "code",
   "execution_count": null,
   "metadata": {},
   "outputs": [],
   "source": []
  },
  {
   "cell_type": "code",
   "execution_count": null,
   "metadata": {},
   "outputs": [],
   "source": []
  },
  {
   "cell_type": "markdown",
   "metadata": {},
   "source": [
    "### 2. things 이름의 리스트를 만드세요. 이 리스트는 \"Mozzarella\", \"Brie\", \"Colby\" 세 문자열을 요소로 갖습니다."
   ]
  },
  {
   "cell_type": "code",
   "execution_count": 146,
   "metadata": {},
   "outputs": [],
   "source": [
    "things = [\"Mozzarella\", \"Brie\", \"Colby\"]"
   ]
  },
  {
   "cell_type": "markdown",
   "metadata": {},
   "source": [
    "### 3. things 리스트에서 첫번째에 저장된 값을 출력하세요."
   ]
  },
  {
   "cell_type": "code",
   "execution_count": 147,
   "metadata": {},
   "outputs": [
    {
     "data": {
      "text/plain": [
       "'Mozzarella'"
      ]
     },
     "execution_count": 147,
     "metadata": {},
     "output_type": "execute_result"
    }
   ],
   "source": [
    "things[0]"
   ]
  },
  {
   "cell_type": "code",
   "execution_count": null,
   "metadata": {},
   "outputs": [],
   "source": []
  },
  {
   "cell_type": "markdown",
   "metadata": {},
   "source": [
    "### 4. 이 리스트의 맨 마지막에 \"Gouda\"를 추가하세요."
   ]
  },
  {
   "cell_type": "code",
   "execution_count": 148,
   "metadata": {},
   "outputs": [
    {
     "name": "stdout",
     "output_type": "stream",
     "text": [
      "['Mozzarella', 'Brie', 'Colby', 'Gouda']\n"
     ]
    }
   ],
   "source": [
    "things.append(\"Gouda\")\n",
    "print(things)"
   ]
  },
  {
   "cell_type": "markdown",
   "metadata": {},
   "source": [
    "### 5. 이 리스트의 두번째에 \"Ricotta\" 를 추가하고, 출력하세요.¶"
   ]
  },
  {
   "cell_type": "code",
   "execution_count": 149,
   "metadata": {},
   "outputs": [],
   "source": [
    "things.insert(1,\"Ricotta\")"
   ]
  },
  {
   "cell_type": "code",
   "execution_count": 150,
   "metadata": {},
   "outputs": [
    {
     "name": "stdout",
     "output_type": "stream",
     "text": [
      "['Mozzarella', 'Ricotta', 'Brie', 'Colby', 'Gouda']\n"
     ]
    }
   ],
   "source": [
    "print(things)"
   ]
  },
  {
   "cell_type": "markdown",
   "metadata": {},
   "source": [
    "### 6. 이 리스트의 맨 마지막 요소를 제거하고, 출력하세요.¶"
   ]
  },
  {
   "cell_type": "code",
   "execution_count": 151,
   "metadata": {},
   "outputs": [
    {
     "name": "stdout",
     "output_type": "stream",
     "text": [
      "['Mozzarella', 'Ricotta', 'Brie', 'Colby']\n"
     ]
    }
   ],
   "source": [
    "del things[-1]\n",
    "print(things)"
   ]
  },
  {
   "cell_type": "markdown",
   "metadata": {},
   "source": [
    "### 7. 이 리스트의 3번째에 저장된 값을, 변수 name 에 저장하세요."
   ]
  },
  {
   "cell_type": "code",
   "execution_count": 152,
   "metadata": {},
   "outputs": [
    {
     "name": "stdout",
     "output_type": "stream",
     "text": [
      "Brie\n"
     ]
    }
   ],
   "source": [
    "name = things[2]\n",
    "print(name)"
   ]
  },
  {
   "cell_type": "markdown",
   "metadata": {},
   "source": [
    "### 8. 변수 name 에 저장된 값을, 대문자로 바꿔서 출력하세요."
   ]
  },
  {
   "cell_type": "code",
   "execution_count": 153,
   "metadata": {},
   "outputs": [
    {
     "data": {
      "text/plain": [
       "'BRIE'"
      ]
     },
     "execution_count": 153,
     "metadata": {},
     "output_type": "execute_result"
    }
   ],
   "source": [
    "name.upper()"
   ]
  },
  {
   "cell_type": "markdown",
   "metadata": {},
   "source": [
    "### 9. 리스트의 길이를 구하시오. 몇개의 항목이 있습니까?"
   ]
  },
  {
   "cell_type": "code",
   "execution_count": 154,
   "metadata": {},
   "outputs": [
    {
     "data": {
      "text/plain": [
       "4"
      ]
     },
     "execution_count": 154,
     "metadata": {},
     "output_type": "execute_result"
    }
   ],
   "source": [
    "len(things)"
   ]
  },
  {
   "cell_type": "markdown",
   "metadata": {},
   "source": [
    "### 10. 다음의 문자열을 리스트로 만드세요. (힌트는 , )\n",
    "cheeses = \"Parmesa, Gorgonzola, Cheddar, Camembert\""
   ]
  },
  {
   "cell_type": "code",
   "execution_count": 163,
   "metadata": {},
   "outputs": [],
   "source": [
    "cheeses = \"Parmesa, Gorgonzola, Cheddar, Camembert\""
   ]
  },
  {
   "cell_type": "code",
   "execution_count": 164,
   "metadata": {},
   "outputs": [
    {
     "name": "stdout",
     "output_type": "stream",
     "text": [
      "['Parmesa', ' Gorgonzola', ' Cheddar', ' Camembert']\n"
     ]
    }
   ],
   "source": [
    "cheeses = cheeses.split(\",\")\n",
    "print(cheeses)"
   ]
  },
  {
   "cell_type": "markdown",
   "metadata": {},
   "source": [
    "### 11. things 리스트와 위의 리스트를 합쳐서, all_cheeses 라는 변수이름으로, 하나의 리스트로 만드세요."
   ]
  },
  {
   "cell_type": "code",
   "execution_count": 165,
   "metadata": {},
   "outputs": [
    {
     "name": "stdout",
     "output_type": "stream",
     "text": [
      "['Mozzarella', 'Ricotta', 'Brie', 'Colby', 'Parmesa', ' Gorgonzola', ' Cheddar', ' Camembert']\n"
     ]
    }
   ],
   "source": [
    "all_cheeses = things + cheeses\n",
    "print(all_cheeses)"
   ]
  },
  {
   "cell_type": "code",
   "execution_count": null,
   "metadata": {},
   "outputs": [],
   "source": []
  },
  {
   "cell_type": "code",
   "execution_count": null,
   "metadata": {},
   "outputs": [],
   "source": []
  },
  {
   "cell_type": "code",
   "execution_count": null,
   "metadata": {},
   "outputs": [],
   "source": []
  },
  {
   "cell_type": "markdown",
   "metadata": {},
   "source": [
    "## 문제"
   ]
  },
  {
   "cell_type": "markdown",
   "metadata": {},
   "source": [
    "### 유저한테 숫자 1개를 입력받아서,그 숫자가 10이면,정답입니다! 를 출력하는 프로그램"
   ]
  },
  {
   "cell_type": "code",
   "execution_count": 170,
   "metadata": {},
   "outputs": [
    {
     "name": "stdout",
     "output_type": "stream",
     "text": [
      "숫자를 입력하세요9\n",
      "오답입니다!\n"
     ]
    }
   ],
   "source": [
    "num = int(input(\"숫자를 입력하세요\"))\n",
    "\n",
    "if num == 10:\n",
    "    print(\"정답입니다!\")\n",
    "else:\n",
    "    print(\"오답입니다!\")"
   ]
  },
  {
   "cell_type": "markdown",
   "metadata": {},
   "source": [
    "### 유저한테 숫자 1개를 입력받아서, 그 숫자가 짝수이면 \"짝수\"를 출력하고, 홀수이면 \"홀수\"를 출력하는 프로그램"
   ]
  },
  {
   "cell_type": "code",
   "execution_count": 172,
   "metadata": {},
   "outputs": [
    {
     "name": "stdout",
     "output_type": "stream",
     "text": [
      "숫자를 입력하세요5\n",
      "홀수\n"
     ]
    }
   ],
   "source": [
    "num_2 = int(input(\"숫자를 입력하세요\"))\n",
    "if num_2%2==0:\n",
    "    print(\"짝수\")\n",
    "elif num_2%2==1:\n",
    "    print(\"홀수\")"
   ]
  },
  {
   "cell_type": "markdown",
   "metadata": {},
   "source": [
    "### 유저한테 점수를 입력받아서,점수가 0보다 작거나 100보다 크면, \"잘못 입력했습니다.\"를 출력.점수가 80 이상이면, \"입력하신 학점 ...은 A 학점입니다.\" 를 출력점수가 80 점 미만이면, \"입력하신 학점 ... 은 B 학점입니다.\"를 출력"
   ]
  },
  {
   "cell_type": "code",
   "execution_count": 178,
   "metadata": {},
   "outputs": [
    {
     "name": "stdout",
     "output_type": "stream",
     "text": [
      "점수를 입력하세요120\n",
      "잘못 입력헸습니다\n"
     ]
    }
   ],
   "source": [
    "score = int(input(\"점수를 입력하세요\"))\n",
    "\n",
    "if score >100 or score < 0:\n",
    "    print(\"잘못 입력헸습니다\")\n",
    "elif score>=80:\n",
    "    print(\"입력하신 학점 {}은 A 학점입니다\".format(score))\n",
    "elif score <80:\n",
    "    print(\"입력하신 학점 {}은 B 학점입니다\".format(score))"
   ]
  },
  {
   "cell_type": "markdown",
   "metadata": {},
   "source": [
    "### 5. 회원가입을 하려 합니다. 유저한테 이메일과 비밀번호를 입력받습니다. 유저한테 이메일을 입력받습니다. 이때 이메일주소 형식(@)이 잘못 되었으면, 다시 입력하세요 를 출력합니다.  이메일 주소가 잘 입력되었으면, 이제 비밀번호를 두번 입력받습니다.만약 첫번째 입력한 비밀번호와, 두번째 입력한 비밀번호가 다르면, 비밀번호가 일치하지 않습니다 를 출력합니다. 비번 길이는 5글자 이상 9글자 이하로 입력받아야 합니다."
   ]
  },
  {
   "cell_type": "code",
   "execution_count": null,
   "metadata": {},
   "outputs": [],
   "source": [
    "email = input(\"이메일을 입력하세요\")\n",
    "\n",
    "\n",
    "if \"@\" in email:\n",
    "    pw_1 = input(\"비밀번호를 입력하세요\")\n",
    "    if len(pw_1)>10 or len(pw_1)<5:\n",
    "        print(\"재입력하세요\")\n",
    "    pw_2 = input(\"비밀번호를 재입력하세요\")\n",
    "    \n",
    "    if pw_1 != pw_2:\n",
    "        print(\"재입력하세요\")\n",
    "else:\n",
    "    print(\"다시 입력하세요\")"
   ]
  },
  {
   "cell_type": "code",
   "execution_count": null,
   "metadata": {},
   "outputs": [],
   "source": [
    "\n",
    "email = input('이메일 입력 : ')\n",
    "passwd1 = input('비번 입력 : ')\n",
    "passwd2 = input('비번 확인 : ')\n",
    "\n",
    "if '@' not in email :\n",
    "    print('이메일 주소가 잘못되었습니다.')\n",
    "elif passwd1 != passwd2 :\n",
    "    print('비번이 일치하지 않습니다.')\n",
    "elif len(passwd1) < 5 or len(passwd1) > 9 : \n",
    "    print('비번 길이는 5글자 이상 9글자 이하로 입력하세요.')"
   ]
  },
  {
   "cell_type": "code",
   "execution_count": null,
   "metadata": {},
   "outputs": [],
   "source": []
  }
 ],
 "metadata": {
  "kernelspec": {
   "display_name": "Python 3",
   "language": "python",
   "name": "python3"
  },
  "language_info": {
   "codemirror_mode": {
    "name": "ipython",
    "version": 3
   },
   "file_extension": ".py",
   "mimetype": "text/x-python",
   "name": "python",
   "nbconvert_exporter": "python",
   "pygments_lexer": "ipython3",
   "version": "3.8.5"
  }
 },
 "nbformat": 4,
 "nbformat_minor": 4
}
